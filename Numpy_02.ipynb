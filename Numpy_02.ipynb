{
  "nbformat": 4,
  "nbformat_minor": 0,
  "metadata": {
    "colab": {
      "provenance": [],
      "collapsed_sections": [
        "z6ow5xEH_SvT",
        "5s_ThvZK_nzE"
      ],
      "authorship_tag": "ABX9TyMnwqJubFv+zYx3I1tK58gW",
      "include_colab_link": true
    },
    "kernelspec": {
      "name": "python3",
      "display_name": "Python 3"
    },
    "language_info": {
      "name": "python"
    }
  },
  "cells": [
    {
      "cell_type": "markdown",
      "metadata": {
        "id": "view-in-github",
        "colab_type": "text"
      },
      "source": [
        "<a href=\"https://colab.research.google.com/github/SinghAbh1shek/Numpy/blob/main/Numpy_02.ipynb\" target=\"_parent\"><img src=\"https://colab.research.google.com/assets/colab-badge.svg\" alt=\"Open In Colab\"/></a>"
      ]
    },
    {
      "cell_type": "markdown",
      "source": [
        "Indexing and slicing in numpy"
      ],
      "metadata": {
        "id": "U0_YtStW8ygs"
      }
    },
    {
      "cell_type": "code",
      "source": [
        "import numpy as np"
      ],
      "metadata": {
        "id": "B40NWrDA9lBY"
      },
      "execution_count": null,
      "outputs": []
    },
    {
      "cell_type": "markdown",
      "source": [
        "\n",
        "\n",
        "#  1D\n",
        "\n"
      ],
      "metadata": {
        "id": "z6ow5xEH_SvT"
      }
    },
    {
      "cell_type": "code",
      "execution_count": null,
      "metadata": {
        "id": "JTDg9TIl6ROG"
      },
      "outputs": [],
      "source": [
        "array_from_list = np.array([1, 2, 3, 4, 5 ])"
      ]
    },
    {
      "cell_type": "code",
      "source": [
        "print(array_from_list)"
      ],
      "metadata": {
        "colab": {
          "base_uri": "https://localhost:8080/"
        },
        "id": "XETGd-3S-CMP",
        "outputId": "8b0b149d-97f0-4538-fc49-94c2b13163be"
      },
      "execution_count": null,
      "outputs": [
        {
          "output_type": "stream",
          "name": "stdout",
          "text": [
            "[1 2 3 4 5]\n"
          ]
        }
      ]
    },
    {
      "cell_type": "markdown",
      "source": [
        "\n",
        "\n",
        "> Indexing\n",
        "\n"
      ],
      "metadata": {
        "id": "gvB6RU7KEei1"
      }
    },
    {
      "cell_type": "code",
      "source": [
        "print(array_from_list[2])"
      ],
      "metadata": {
        "colab": {
          "base_uri": "https://localhost:8080/"
        },
        "id": "bVXSP01x_4wK",
        "outputId": "ac6d5485-89ae-440a-e5de-230c283b968a"
      },
      "execution_count": null,
      "outputs": [
        {
          "output_type": "stream",
          "name": "stdout",
          "text": [
            "3\n"
          ]
        }
      ]
    },
    {
      "cell_type": "markdown",
      "source": [
        "\n",
        "\n",
        "> Slicing\n",
        "\n"
      ],
      "metadata": {
        "id": "yHS_WAo7E14j"
      }
    },
    {
      "cell_type": "code",
      "source": [
        "print(array_from_list[1:4])"
      ],
      "metadata": {
        "colab": {
          "base_uri": "https://localhost:8080/"
        },
        "id": "iwwBzj7XE23F",
        "outputId": "31bb16a1-942e-47b4-d171-d13786dca909"
      },
      "execution_count": null,
      "outputs": [
        {
          "output_type": "stream",
          "name": "stdout",
          "text": [
            "[2 3 4]\n"
          ]
        }
      ]
    },
    {
      "cell_type": "markdown",
      "source": [
        "# 2D"
      ],
      "metadata": {
        "id": "5s_ThvZK_nzE"
      }
    },
    {
      "cell_type": "code",
      "source": [
        "array_2d = np.array([[1, 2, 3], [4, 5, 6], [7, 8, 9]])"
      ],
      "metadata": {
        "id": "_AQFI1W5-Flg"
      },
      "execution_count": null,
      "outputs": []
    },
    {
      "cell_type": "code",
      "source": [
        "print(array_2d)"
      ],
      "metadata": {
        "colab": {
          "base_uri": "https://localhost:8080/"
        },
        "id": "lcliKr_7-ekq",
        "outputId": "4ae1cf9b-140f-4b27-c097-0153ddf0d987"
      },
      "execution_count": null,
      "outputs": [
        {
          "output_type": "stream",
          "name": "stdout",
          "text": [
            "[[1 2 3]\n",
            " [4 5 6]\n",
            " [7 8 9]]\n"
          ]
        }
      ]
    },
    {
      "cell_type": "markdown",
      "source": [
        "\n",
        "\n",
        "> Indexing\n",
        "\n"
      ],
      "metadata": {
        "id": "IkJ0YcJGEqAp"
      }
    },
    {
      "cell_type": "code",
      "source": [
        "print(array_2d[2][1])   #array_2d[row index ->][column Index |]"
      ],
      "metadata": {
        "colab": {
          "base_uri": "https://localhost:8080/"
        },
        "id": "GX8xOHmp_2sr",
        "outputId": "57cf2b7b-ad0b-49dc-dd8a-04954b8afcfe"
      },
      "execution_count": null,
      "outputs": [
        {
          "output_type": "stream",
          "name": "stdout",
          "text": [
            "8\n"
          ]
        }
      ]
    },
    {
      "cell_type": "code",
      "source": [
        "print(array_2d[2, 1])   # We can also write like this"
      ],
      "metadata": {
        "colab": {
          "base_uri": "https://localhost:8080/"
        },
        "id": "Tf8yoAJdBuxe",
        "outputId": "552f33ce-0f07-4c9f-d1ae-abfc55de4677"
      },
      "execution_count": null,
      "outputs": [
        {
          "output_type": "stream",
          "name": "stdout",
          "text": [
            "8\n"
          ]
        }
      ]
    },
    {
      "cell_type": "markdown",
      "source": [
        "\n",
        "\n",
        "> Slicing\n",
        "\n"
      ],
      "metadata": {
        "id": "LyOKU3h_E4HB"
      }
    },
    {
      "cell_type": "code",
      "source": [
        "print(array_2d[0:2, 1:])"
      ],
      "metadata": {
        "colab": {
          "base_uri": "https://localhost:8080/"
        },
        "id": "j4GuOY3sE45u",
        "outputId": "65a574ca-c481-4296-8b91-2d1a65d1f1dd"
      },
      "execution_count": null,
      "outputs": [
        {
          "output_type": "stream",
          "name": "stdout",
          "text": [
            "[[2 3]\n",
            " [5 6]]\n"
          ]
        }
      ]
    },
    {
      "cell_type": "code",
      "source": [
        "print(array_2d[1:, 1:])"
      ],
      "metadata": {
        "colab": {
          "base_uri": "https://localhost:8080/"
        },
        "id": "qWYpz21KHmuV",
        "outputId": "5bc4c508-c84b-4523-85ef-1b8482ff7bfc"
      },
      "execution_count": null,
      "outputs": [
        {
          "output_type": "stream",
          "name": "stdout",
          "text": [
            "[[5 6]\n",
            " [8 9]]\n"
          ]
        }
      ]
    },
    {
      "cell_type": "markdown",
      "source": [
        "# 3D"
      ],
      "metadata": {
        "id": "_flHvBDU_ssV"
      }
    },
    {
      "cell_type": "code",
      "source": [
        "array_3d = np.array([[[1, 2, 3], [3, 4, 6], [6, 7, 8]],\n",
        "                     [[5, 6, 7], [7, 8, 9], [9, 10, 11]],\n",
        "                     [[9, 10, 11], [12, 13, 14], [14, 15, 16]]])"
      ],
      "metadata": {
        "id": "ON2NDKUI-g1W"
      },
      "execution_count": null,
      "outputs": []
    },
    {
      "cell_type": "code",
      "source": [
        "print(array_3d)"
      ],
      "metadata": {
        "colab": {
          "base_uri": "https://localhost:8080/"
        },
        "id": "hDRNjVTL-8IG",
        "outputId": "a11e36cc-6fdd-436f-ba6f-88622d09d05c"
      },
      "execution_count": null,
      "outputs": [
        {
          "output_type": "stream",
          "name": "stdout",
          "text": [
            "[[[ 1  2  3]\n",
            "  [ 3  4  6]\n",
            "  [ 6  7  8]]\n",
            "\n",
            " [[ 5  6  7]\n",
            "  [ 7  8  9]\n",
            "  [ 9 10 11]]\n",
            "\n",
            " [[ 9 10 11]\n",
            "  [12 13 14]\n",
            "  [14 15 16]]]\n"
          ]
        }
      ]
    },
    {
      "cell_type": "markdown",
      "source": [
        "\n",
        "\n",
        "> Indexing\n",
        "\n"
      ],
      "metadata": {
        "id": "S7f1bsa5EsgJ"
      }
    },
    {
      "cell_type": "code",
      "source": [
        "print(array_3d[1])  # array_3d[Sub Matrix]"
      ],
      "metadata": {
        "colab": {
          "base_uri": "https://localhost:8080/"
        },
        "id": "yD-KaZPb--dq",
        "outputId": "0b16f612-0c3d-4ff6-ecb2-a613b2e6a84f"
      },
      "execution_count": null,
      "outputs": [
        {
          "output_type": "stream",
          "name": "stdout",
          "text": [
            "[[ 5  6  7]\n",
            " [ 7  8  9]\n",
            " [ 9 10 11]]\n"
          ]
        }
      ]
    },
    {
      "cell_type": "code",
      "source": [
        "print(array_3d[1][1][2])  # array_3d[Sub Matrix][We can use 2d method]\n",
        "print(array_3d[1][1, 2])  # we can also write like this\n",
        "print(array_3d[1, 1, 2])  # we can also write like this"
      ],
      "metadata": {
        "colab": {
          "base_uri": "https://localhost:8080/"
        },
        "id": "QZvY-D-PCzdH",
        "outputId": "24908169-1a0f-4c4d-aeed-41f852b9e2ba"
      },
      "execution_count": null,
      "outputs": [
        {
          "output_type": "stream",
          "name": "stdout",
          "text": [
            "9\n",
            "9\n",
            "9\n"
          ]
        }
      ]
    },
    {
      "cell_type": "code",
      "source": [
        "# Question how can access 16?\n",
        "print(array_3d[2, 2, 2])"
      ],
      "metadata": {
        "colab": {
          "base_uri": "https://localhost:8080/"
        },
        "id": "7qhCCOTdDRd4",
        "outputId": "2c5a4644-e011-4929-e813-870330d43b6b"
      },
      "execution_count": null,
      "outputs": [
        {
          "output_type": "stream",
          "name": "stdout",
          "text": [
            "[[13 14]]\n"
          ]
        }
      ]
    },
    {
      "cell_type": "markdown",
      "source": [
        "\n",
        "\n",
        "> Slicing\n",
        "\n"
      ],
      "metadata": {
        "id": "PqKyXWaQEuKi"
      }
    },
    {
      "cell_type": "code",
      "source": [
        "# How can we access 4, 6 and 8,9\n",
        "print(array_3d[0:2, 1, 1:])"
      ],
      "metadata": {
        "colab": {
          "base_uri": "https://localhost:8080/"
        },
        "id": "s0C8oAoNECR9",
        "outputId": "c9b75338-b5e2-4c90-847d-a6a29d91d605"
      },
      "execution_count": null,
      "outputs": [
        {
          "output_type": "stream",
          "name": "stdout",
          "text": [
            "[[4 6]\n",
            " [8 9]]\n"
          ]
        }
      ]
    },
    {
      "cell_type": "code",
      "source": [],
      "metadata": {
        "id": "wrzbnU1KHi55"
      },
      "execution_count": null,
      "outputs": []
    }
  ]
}