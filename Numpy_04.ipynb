{
  "nbformat": 4,
  "nbformat_minor": 0,
  "metadata": {
    "colab": {
      "provenance": [],
      "collapsed_sections": [
        "cZ3t7RT-TBGe",
        "9357p9o0UX0J",
        "zY2Sd66Uan1h",
        "vWw7ZCdMf813",
        "QQ_O_fLaiOcL",
        "UeOtd4zelWMh",
        "ZnE0Qr8Ml3eN",
        "rFRWzGg4uSQr"
      ],
      "authorship_tag": "ABX9TyP6sAn7/XGfqV/Rt8jxgJSm",
      "include_colab_link": true
    },
    "kernelspec": {
      "name": "python3",
      "display_name": "Python 3"
    },
    "language_info": {
      "name": "python"
    }
  },
  "cells": [
    {
      "cell_type": "markdown",
      "metadata": {
        "id": "view-in-github",
        "colab_type": "text"
      },
      "source": [
        "<a href=\"https://colab.research.google.com/github/SinghAbh1shek/Numpy/blob/main/Numpy_04.ipynb\" target=\"_parent\"><img src=\"https://colab.research.google.com/assets/colab-badge.svg\" alt=\"Open In Colab\"/></a>"
      ]
    },
    {
      "cell_type": "markdown",
      "source": [
        "Method in NumPy"
      ],
      "metadata": {
        "id": "7tNSXP_sSnMP"
      }
    },
    {
      "cell_type": "code",
      "execution_count": null,
      "metadata": {
        "id": "go5fuEEBShPt"
      },
      "outputs": [],
      "source": [
        "import numpy as np"
      ]
    },
    {
      "cell_type": "markdown",
      "source": [
        "# Transpose\n",
        "\n",
        "> It's covert rows to columns and columns into rows\n",
        "\n"
      ],
      "metadata": {
        "id": "cZ3t7RT-TBGe"
      }
    },
    {
      "cell_type": "code",
      "source": [
        "array_2d = np.array([[1, 2, 3],\n",
        "                     [4, 5, 6],\n",
        "                     [7, 8, 9]])\n"
      ],
      "metadata": {
        "id": "1mCGHWTqSx2D"
      },
      "execution_count": null,
      "outputs": []
    },
    {
      "cell_type": "code",
      "source": [
        "print(array_2d.transpose())\n",
        "print(array_2d.T)  #We can also write like this"
      ],
      "metadata": {
        "colab": {
          "base_uri": "https://localhost:8080/"
        },
        "id": "Zt_nfthbTv-c",
        "outputId": "939db14b-54a9-4f63-95e7-96525163b3ba"
      },
      "execution_count": null,
      "outputs": [
        {
          "output_type": "stream",
          "name": "stdout",
          "text": [
            "[[1 4 7]\n",
            " [2 5 8]\n",
            " [3 6 9]]\n",
            "[[1 4 7]\n",
            " [2 5 8]\n",
            " [3 6 9]]\n"
          ]
        }
      ]
    },
    {
      "cell_type": "markdown",
      "source": [
        "# Sorting"
      ],
      "metadata": {
        "id": "9357p9o0UX0J"
      }
    },
    {
      "cell_type": "code",
      "source": [
        "arr = np.array([1, 3, 2, 54, 6, 8, 7, 2, 5])"
      ],
      "metadata": {
        "id": "xoUH1Ti9UVNh"
      },
      "execution_count": null,
      "outputs": []
    },
    {
      "cell_type": "code",
      "source": [
        "sorted_array = np.sort(arr)\n",
        "print(sorted_array)"
      ],
      "metadata": {
        "colab": {
          "base_uri": "https://localhost:8080/"
        },
        "id": "bKhYN_lPT1Y_",
        "outputId": "126d8fea-73e4-4f4c-9a5f-6717d6aff707"
      },
      "execution_count": null,
      "outputs": [
        {
          "output_type": "stream",
          "name": "stdout",
          "text": [
            "[ 1  2  2  3  5  6  7  8 54]\n"
          ]
        }
      ]
    },
    {
      "cell_type": "code",
      "source": [
        "arr_2D = np.array([[4, 2, 1], [7, 2, 5]])\n",
        "sorted_arr_2D = np.sort(arr_2D)\n",
        "print(sorted_arr_2D)"
      ],
      "metadata": {
        "colab": {
          "base_uri": "https://localhost:8080/"
        },
        "id": "1CY_RDnAU8yL",
        "outputId": "d797ceac-b760-4475-fef7-8fcf19c5efd9"
      },
      "execution_count": null,
      "outputs": [
        {
          "output_type": "stream",
          "name": "stdout",
          "text": [
            "[[1 2 4]\n",
            " [2 5 7]]\n"
          ]
        }
      ]
    },
    {
      "cell_type": "code",
      "source": [
        "arr_2D = np.array([[4, 3, 2], [7, 1, 5], [3, 2, 1]])\n",
        "sorted_arr_2D = np.sort(arr_2D, axis=0)   # When axis is 0 its runs vertically down the column\n",
        "print(sorted_arr_2D)"
      ],
      "metadata": {
        "colab": {
          "base_uri": "https://localhost:8080/"
        },
        "id": "SjssK3k_XAqL",
        "outputId": "aff4af35-598e-44e0-f2e5-03cf224ab5bb"
      },
      "execution_count": null,
      "outputs": [
        {
          "output_type": "stream",
          "name": "stdout",
          "text": [
            "[[3 1 1]\n",
            " [4 2 2]\n",
            " [7 3 5]]\n"
          ]
        }
      ]
    },
    {
      "cell_type": "code",
      "source": [
        "arr_2D = np.array([[4, 3, 2], [7, 1, 5], [3, 2, 1]])\n",
        "sorted_arr_2D = np.sort(arr_2D, axis=1)   # When axis is 1 its runs horizontally across the rows\n",
        "print(sorted_arr_2D)"
      ],
      "metadata": {
        "colab": {
          "base_uri": "https://localhost:8080/"
        },
        "id": "ZZfIRNPGXUV2",
        "outputId": "afe096cc-5ef7-4da4-ad39-07c30be43fa5"
      },
      "execution_count": null,
      "outputs": [
        {
          "output_type": "stream",
          "name": "stdout",
          "text": [
            "[[2 3 4]\n",
            " [1 5 7]\n",
            " [1 2 3]]\n"
          ]
        }
      ]
    },
    {
      "cell_type": "markdown",
      "source": [
        "# argsort()\n",
        "\n",
        "> Its returns the indexes that would sort an array\n"
      ],
      "metadata": {
        "id": "zY2Sd66Uan1h"
      }
    },
    {
      "cell_type": "code",
      "source": [
        "arr = np.array([1, 3, 2, 54, 6, 8, 7, 2, 5])"
      ],
      "metadata": {
        "id": "lodB5Jh8amoB"
      },
      "execution_count": null,
      "outputs": []
    },
    {
      "cell_type": "code",
      "source": [
        "print(np.argsort(arr))"
      ],
      "metadata": {
        "colab": {
          "base_uri": "https://localhost:8080/"
        },
        "id": "AZUen2IybTWE",
        "outputId": "5ea6bc74-02d3-474c-9df7-ba5e0ee6076b"
      },
      "execution_count": null,
      "outputs": [
        {
          "output_type": "stream",
          "name": "stdout",
          "text": [
            "[0 2 7 1 8 4 6 5 3]\n"
          ]
        }
      ]
    },
    {
      "cell_type": "markdown",
      "source": [
        "*Ranking Recommendation Systems*"
      ],
      "metadata": {
        "id": "N073V51qdagK"
      }
    },
    {
      "cell_type": "code",
      "source": [
        "similarity_scores = np.array([0.88, 0.21, 0.93, 0.64, 0.52])\n",
        "sorted_indices = np.argsort(similarity_scores)\n",
        "print(sorted_indices)\n",
        "# for top 3\n",
        "top_3_indices = sorted_indices[-3:][::-1]\n",
        "print(top_3_indices)"
      ],
      "metadata": {
        "colab": {
          "base_uri": "https://localhost:8080/"
        },
        "id": "y94avEu_dZaH",
        "outputId": "2a3174d3-73d3-46de-8d0a-45cd1edbf029"
      },
      "execution_count": null,
      "outputs": [
        {
          "output_type": "stream",
          "name": "stdout",
          "text": [
            "[1 4 3 0 2]\n",
            "[2 0 3]\n"
          ]
        }
      ]
    },
    {
      "cell_type": "markdown",
      "source": [
        "# Concatenation Arrays"
      ],
      "metadata": {
        "id": "vWw7ZCdMf813"
      }
    },
    {
      "cell_type": "code",
      "source": [
        "arr_1 = np.array([1, 2, 3])\n",
        "arr_2 = np.array([3, 4, 5, 6])\n",
        "\n",
        "arr_3 = np.concatenate((arr_1, arr_2))\n",
        "print(arr_3)"
      ],
      "metadata": {
        "colab": {
          "base_uri": "https://localhost:8080/"
        },
        "id": "stzqJwRjbbqL",
        "outputId": "1251ebaf-0ede-4599-9359-f7f4bf9aa0a8"
      },
      "execution_count": null,
      "outputs": [
        {
          "output_type": "stream",
          "name": "stdout",
          "text": [
            "[1 2 3 3 4 5 6]\n"
          ]
        }
      ]
    },
    {
      "cell_type": "code",
      "source": [
        "arr_1 = np.array([[1, 2, 3], [4, 5, 6]])\n",
        "arr_2 = np.array([[7, 8, 9], [10, 11, 12]])\n",
        "\n",
        "arr_3 = np.concatenate((arr_1, arr_2), axis=0)\n",
        "print(arr_3)"
      ],
      "metadata": {
        "colab": {
          "base_uri": "https://localhost:8080/"
        },
        "id": "f7hGSoLUgSoT",
        "outputId": "f5935cd4-5071-4cf0-935e-d0707ffbe395"
      },
      "execution_count": null,
      "outputs": [
        {
          "output_type": "stream",
          "name": "stdout",
          "text": [
            "[[ 1  2  3]\n",
            " [ 4  5  6]\n",
            " [ 7  8  9]\n",
            " [10 11 12]]\n"
          ]
        }
      ]
    },
    {
      "cell_type": "code",
      "source": [
        "arr_1 = np.array([[1, 2, 3], [4, 5, 6]])\n",
        "arr_2 = np.array([[7, 8, 9], [10, 11, 12]])\n",
        "\n",
        "arr_3 = np.concatenate((arr_1, arr_2), axis=1)\n",
        "print(arr_3)"
      ],
      "metadata": {
        "colab": {
          "base_uri": "https://localhost:8080/"
        },
        "id": "wJXOuoP5hF0u",
        "outputId": "5d7f9d94-3752-451a-d53a-5d87cf637793"
      },
      "execution_count": null,
      "outputs": [
        {
          "output_type": "stream",
          "name": "stdout",
          "text": [
            "[[ 1  2  3  7  8  9]\n",
            " [ 4  5  6 10 11 12]]\n"
          ]
        }
      ]
    },
    {
      "cell_type": "markdown",
      "source": [
        "# Reshape"
      ],
      "metadata": {
        "id": "QQ_O_fLaiOcL"
      }
    },
    {
      "cell_type": "code",
      "source": [
        "arr = np.array([1, 2, 3, 4, 5, 6, 7, 8])"
      ],
      "metadata": {
        "id": "mzab6MSiiTMR"
      },
      "execution_count": null,
      "outputs": []
    },
    {
      "cell_type": "code",
      "source": [
        "array_2d = arr.reshape(4, 2)\n",
        "print(array_2d)"
      ],
      "metadata": {
        "colab": {
          "base_uri": "https://localhost:8080/"
        },
        "id": "Lo_p_vjbik6k",
        "outputId": "9b8f893e-b674-4857-c767-c04b2b2e2c70"
      },
      "execution_count": null,
      "outputs": [
        {
          "output_type": "stream",
          "name": "stdout",
          "text": [
            "[[1 2]\n",
            " [3 4]\n",
            " [5 6]\n",
            " [7 8]]\n"
          ]
        }
      ]
    },
    {
      "cell_type": "code",
      "source": [
        "# flatten the Multidimentional array to 1D\n",
        "arr_1D = array_2d.reshape(-1)\n",
        "print(arr_1D)"
      ],
      "metadata": {
        "colab": {
          "base_uri": "https://localhost:8080/"
        },
        "id": "pSPwQ4v9jKil",
        "outputId": "66d91c19-4f61-41f8-e860-e060ec1fcfeb"
      },
      "execution_count": null,
      "outputs": [
        {
          "output_type": "stream",
          "name": "stdout",
          "text": [
            "[1 2 3 4 5 6 7 8]\n"
          ]
        }
      ]
    },
    {
      "cell_type": "markdown",
      "source": [
        "# Split()"
      ],
      "metadata": {
        "id": "UeOtd4zelWMh"
      }
    },
    {
      "cell_type": "code",
      "source": [
        "arr = np.array([1, 2, 3, 4, 5, 6, 7, 8])"
      ],
      "metadata": {
        "id": "d8fFCdjSkTkq"
      },
      "execution_count": null,
      "outputs": []
    },
    {
      "cell_type": "code",
      "source": [
        "split_arr = np.split(arr, 4)"
      ],
      "metadata": {
        "id": "_KDZ7RgAlcnI"
      },
      "execution_count": null,
      "outputs": []
    },
    {
      "cell_type": "code",
      "source": [
        "print(split_arr)"
      ],
      "metadata": {
        "colab": {
          "base_uri": "https://localhost:8080/"
        },
        "id": "SVAEBiColnn_",
        "outputId": "5ac4acda-27a8-4829-9082-ddce9eb45fed"
      },
      "execution_count": null,
      "outputs": [
        {
          "output_type": "stream",
          "name": "stdout",
          "text": [
            "[array([1, 2]), array([3, 4]), array([5, 6]), array([7, 8])]\n"
          ]
        }
      ]
    },
    {
      "cell_type": "markdown",
      "source": [
        "# Statistical Operations\n",
        "\n",
        "\n",
        "> Mean, Median, Mode, Standard Deviations, Min, Max, Sum\n"
      ],
      "metadata": {
        "id": "ZnE0Qr8Ml3eN"
      }
    },
    {
      "cell_type": "code",
      "source": [
        "arr_2d = np.array([[1, 2, 3], [4, 5, 6]])"
      ],
      "metadata": {
        "id": "M-TcRmGHmfRt"
      },
      "execution_count": null,
      "outputs": []
    },
    {
      "cell_type": "code",
      "source": [
        "mean_all = np.mean(arr_2d)\n",
        "print(mean_all)"
      ],
      "metadata": {
        "colab": {
          "base_uri": "https://localhost:8080/"
        },
        "id": "XeLwQYLKnGJE",
        "outputId": "bb07388c-b03a-4d22-b6c1-e0f282d2f1dc"
      },
      "execution_count": null,
      "outputs": [
        {
          "output_type": "stream",
          "name": "stdout",
          "text": [
            "3.5\n"
          ]
        }
      ]
    },
    {
      "cell_type": "code",
      "source": [
        "mean_axis_0 = np.mean(arr_2d, axis=0)\n",
        "print(mean_axis_0)"
      ],
      "metadata": {
        "colab": {
          "base_uri": "https://localhost:8080/"
        },
        "id": "rVoE6ib-nPjJ",
        "outputId": "73a2dce4-a998-45a6-d449-bc4df27a2e42"
      },
      "execution_count": null,
      "outputs": [
        {
          "output_type": "stream",
          "name": "stdout",
          "text": [
            "[2.5 3.5 4.5]\n"
          ]
        }
      ]
    },
    {
      "cell_type": "code",
      "source": [
        "mean_axis_1 = np.mean(arr_2d, axis=1)\n",
        "print(mean_axis_1)"
      ],
      "metadata": {
        "colab": {
          "base_uri": "https://localhost:8080/"
        },
        "id": "LTiARC7on45G",
        "outputId": "e446d954-1fd1-4d24-87ad-fed854a2f791"
      },
      "execution_count": null,
      "outputs": [
        {
          "output_type": "execute_result",
          "data": {
            "text/plain": [
              "array([2., 5.])"
            ]
          },
          "metadata": {},
          "execution_count": 58
        }
      ]
    },
    {
      "cell_type": "code",
      "source": [
        "median_all = np.median(arr_2d)\n",
        "print(median_all)"
      ],
      "metadata": {
        "colab": {
          "base_uri": "https://localhost:8080/"
        },
        "id": "No2Tf1yXn9bD",
        "outputId": "f1b10715-9dc1-47f8-f411-aa85458310bd"
      },
      "execution_count": null,
      "outputs": [
        {
          "output_type": "stream",
          "name": "stdout",
          "text": [
            "3.5\n"
          ]
        }
      ]
    },
    {
      "cell_type": "code",
      "source": [
        "standard_deviation_all = np.std(arr_2d)\n",
        "print(standard_deviation_all)"
      ],
      "metadata": {
        "colab": {
          "base_uri": "https://localhost:8080/"
        },
        "id": "pzpdp4IIoh7K",
        "outputId": "b0602920-fe32-4e58-a46e-713deef83b9d"
      },
      "execution_count": null,
      "outputs": [
        {
          "output_type": "stream",
          "name": "stdout",
          "text": [
            "1.707825127659933\n"
          ]
        }
      ]
    },
    {
      "cell_type": "code",
      "source": [
        "min_all = np.min(arr_2d)\n",
        "print(min_all)"
      ],
      "metadata": {
        "colab": {
          "base_uri": "https://localhost:8080/"
        },
        "id": "OABoBjLipV6v",
        "outputId": "374229c5-7aef-4485-9b5a-a706cae8f2b8"
      },
      "execution_count": null,
      "outputs": [
        {
          "output_type": "stream",
          "name": "stdout",
          "text": [
            "1\n"
          ]
        }
      ]
    },
    {
      "cell_type": "code",
      "source": [
        "max_all = np.max(arr_2d)\n",
        "print(max_all)"
      ],
      "metadata": {
        "colab": {
          "base_uri": "https://localhost:8080/"
        },
        "id": "gBLnYLn3pdUS",
        "outputId": "af672862-347c-4830-b06b-20ce43f40cd2"
      },
      "execution_count": null,
      "outputs": [
        {
          "output_type": "stream",
          "name": "stdout",
          "text": [
            "6\n"
          ]
        }
      ]
    },
    {
      "cell_type": "code",
      "source": [
        "sum_all = np.sum(arr_2d)\n",
        "print(sum_all)"
      ],
      "metadata": {
        "colab": {
          "base_uri": "https://localhost:8080/"
        },
        "id": "28WaCY3Epitw",
        "outputId": "ac4e8326-8698-46bd-f3f8-85d51a1f84bd"
      },
      "execution_count": null,
      "outputs": [
        {
          "output_type": "stream",
          "name": "stdout",
          "text": [
            "21\n"
          ]
        }
      ]
    },
    {
      "cell_type": "markdown",
      "source": [
        "# Data creations ways of NumPy arrays"
      ],
      "metadata": {
        "id": "w5aA2CkwqHAl"
      }
    },
    {
      "cell_type": "code",
      "source": [
        "arr1 =np.zeros(5)\n",
        "print(arr1)"
      ],
      "metadata": {
        "colab": {
          "base_uri": "https://localhost:8080/"
        },
        "id": "CKUa87D2qGKf",
        "outputId": "b41fd2b1-46cf-43e3-8e45-aa085b5056a7"
      },
      "execution_count": null,
      "outputs": [
        {
          "output_type": "stream",
          "name": "stdout",
          "text": [
            "[0. 0. 0. 0. 0.]\n"
          ]
        }
      ]
    },
    {
      "cell_type": "code",
      "source": [
        "arr_2d =np.zeros((3, 3))\n",
        "print(arr_2d)"
      ],
      "metadata": {
        "colab": {
          "base_uri": "https://localhost:8080/"
        },
        "id": "QF4yctMRpryI",
        "outputId": "6954944e-2e79-4f21-898f-058c7ae70ce6"
      },
      "execution_count": null,
      "outputs": [
        {
          "output_type": "stream",
          "name": "stdout",
          "text": [
            "[[0. 0. 0.]\n",
            " [0. 0. 0.]\n",
            " [0. 0. 0.]]\n"
          ]
        }
      ]
    },
    {
      "cell_type": "code",
      "source": [
        "arr_3d =np.zeros((3, 3, 4), dtype=int)    # dtype=int return int value instead of float\n",
        "print(arr_3d)"
      ],
      "metadata": {
        "colab": {
          "base_uri": "https://localhost:8080/"
        },
        "id": "BvvTc4fjrkNV",
        "outputId": "ff77dd48-8321-4862-f0db-99251ad28a85"
      },
      "execution_count": null,
      "outputs": [
        {
          "output_type": "stream",
          "name": "stdout",
          "text": [
            "[[[0 0 0 0]\n",
            "  [0 0 0 0]\n",
            "  [0 0 0 0]]\n",
            "\n",
            " [[0 0 0 0]\n",
            "  [0 0 0 0]\n",
            "  [0 0 0 0]]\n",
            "\n",
            " [[0 0 0 0]\n",
            "  [0 0 0 0]\n",
            "  [0 0 0 0]]]\n"
          ]
        }
      ]
    },
    {
      "cell_type": "code",
      "source": [
        "arr_3d =np.ones((3, 3, 4), dtype=str)    # np.ones returns new array filled with 1\n",
        "print(arr_3d)"
      ],
      "metadata": {
        "colab": {
          "base_uri": "https://localhost:8080/"
        },
        "id": "CklzVr-Drz6m",
        "outputId": "fff1ff37-fad6-4ff7-9b2e-e66260935821"
      },
      "execution_count": null,
      "outputs": [
        {
          "output_type": "stream",
          "name": "stdout",
          "text": [
            "[[['1' '1' '1' '1']\n",
            "  ['1' '1' '1' '1']\n",
            "  ['1' '1' '1' '1']]\n",
            "\n",
            " [['1' '1' '1' '1']\n",
            "  ['1' '1' '1' '1']\n",
            "  ['1' '1' '1' '1']]\n",
            "\n",
            " [['1' '1' '1' '1']\n",
            "  ['1' '1' '1' '1']\n",
            "  ['1' '1' '1' '1']]]\n"
          ]
        }
      ]
    },
    {
      "cell_type": "code",
      "source": [
        "arr_3d =np.full((3, 3, 4), 8, dtype=str)    # np.full returns new array filled with the value we filled\n",
        "print(arr_3d)"
      ],
      "metadata": {
        "colab": {
          "base_uri": "https://localhost:8080/"
        },
        "id": "qWakJ4M8shtL",
        "outputId": "524174e3-764c-4057-dd53-83a48b07275e"
      },
      "execution_count": null,
      "outputs": [
        {
          "output_type": "stream",
          "name": "stdout",
          "text": [
            "[[['8' '8' '8' '8']\n",
            "  ['8' '8' '8' '8']\n",
            "  ['8' '8' '8' '8']]\n",
            "\n",
            " [['8' '8' '8' '8']\n",
            "  ['8' '8' '8' '8']\n",
            "  ['8' '8' '8' '8']]\n",
            "\n",
            " [['8' '8' '8' '8']\n",
            "  ['8' '8' '8' '8']\n",
            "  ['8' '8' '8' '8']]]\n"
          ]
        }
      ]
    },
    {
      "cell_type": "code",
      "source": [
        "identity_3_cross_4 = np.eye(3,4)  # np.eye return a 2-D array with ones on the diagonal and zeros elsewhere.\n",
        "print(identity_3_cross_4)"
      ],
      "metadata": {
        "colab": {
          "base_uri": "https://localhost:8080/"
        },
        "id": "e4L-8zWjtO9n",
        "outputId": "ecd10514-bc65-4e63-93b3-a99656854823"
      },
      "execution_count": null,
      "outputs": [
        {
          "output_type": "stream",
          "name": "stdout",
          "text": [
            "[[1. 0. 0. 0.]\n",
            " [0. 1. 0. 0.]\n",
            " [0. 0. 1. 0.]]\n"
          ]
        }
      ]
    },
    {
      "cell_type": "markdown",
      "source": [
        "Arange\n",
        "\n",
        "\n",
        "> np.arange(start, stop, step_size)\n",
        "\n",
        "\n",
        "\n"
      ],
      "metadata": {
        "id": "rFRWzGg4uSQr"
      }
    },
    {
      "cell_type": "code",
      "source": [
        "np.arange(10)"
      ],
      "metadata": {
        "colab": {
          "base_uri": "https://localhost:8080/"
        },
        "id": "hvvQhI4ZuQlt",
        "outputId": "69f35395-3a4b-463d-eb5a-a7f0d8a70eb4"
      },
      "execution_count": null,
      "outputs": [
        {
          "output_type": "execute_result",
          "data": {
            "text/plain": [
              "array([0, 1, 2, 3, 4, 5, 6, 7, 8, 9])"
            ]
          },
          "metadata": {},
          "execution_count": 87
        }
      ]
    },
    {
      "cell_type": "code",
      "source": [
        "np.arange(2, 11, 2)"
      ],
      "metadata": {
        "colab": {
          "base_uri": "https://localhost:8080/"
        },
        "id": "LaNvmK6YtwEU",
        "outputId": "94093217-76b5-4fb0-8fc5-851cb0b247dc"
      },
      "execution_count": null,
      "outputs": [
        {
          "output_type": "execute_result",
          "data": {
            "text/plain": [
              "array([ 2,  4,  6,  8, 10])"
            ]
          },
          "metadata": {},
          "execution_count": 88
        }
      ]
    },
    {
      "cell_type": "markdown",
      "source": [
        "> Random\n",
        "\n",
        "\n"
      ],
      "metadata": {
        "id": "uOfhc2fgvcuq"
      }
    },
    {
      "cell_type": "code",
      "source": [
        "np.random.random(5)"
      ],
      "metadata": {
        "colab": {
          "base_uri": "https://localhost:8080/"
        },
        "id": "H7YwnVh2uv5w",
        "outputId": "5683e1ac-f9b3-4b10-e859-ff9e4b452ce0"
      },
      "execution_count": null,
      "outputs": [
        {
          "output_type": "execute_result",
          "data": {
            "text/plain": [
              "array([0.41894772, 0.46730119, 0.32483028, 0.13148147, 0.52573053])"
            ]
          },
          "metadata": {},
          "execution_count": 99
        }
      ]
    },
    {
      "cell_type": "code",
      "source": [
        "np.random.random((3, 4))"
      ],
      "metadata": {
        "colab": {
          "base_uri": "https://localhost:8080/"
        },
        "id": "sKx34nmwvkGY",
        "outputId": "4aded81b-5007-40b4-ade8-1e64e733bdc8"
      },
      "execution_count": null,
      "outputs": [
        {
          "output_type": "execute_result",
          "data": {
            "text/plain": [
              "array([[0.19152996, 0.60218983, 0.16756243, 0.12916586],\n",
              "       [0.92945389, 0.8911013 , 0.94639053, 0.23666871],\n",
              "       [0.8218775 , 0.77357423, 0.6358308 , 0.44756932]])"
            ]
          },
          "metadata": {},
          "execution_count": 102
        }
      ]
    },
    {
      "cell_type": "code",
      "source": [
        "np.random.seed((25))      # random.seed return the same value at every iteration\n",
        "np.random.random((3, 4))\n"
      ],
      "metadata": {
        "colab": {
          "base_uri": "https://localhost:8080/"
        },
        "id": "qQZfv-q0wEFt",
        "outputId": "5dbde476-e51b-4c20-8d36-3a78246108a6"
      },
      "execution_count": null,
      "outputs": [
        {
          "output_type": "execute_result",
          "data": {
            "text/plain": [
              "array([[0.87012414, 0.58227693, 0.27883894, 0.18591123],\n",
              "       [0.41110013, 0.11737555, 0.68496874, 0.43761106],\n",
              "       [0.55622933, 0.36708032, 0.40236573, 0.1130407 ]])"
            ]
          },
          "metadata": {},
          "execution_count": 109
        }
      ]
    },
    {
      "cell_type": "code",
      "source": [],
      "metadata": {
        "id": "BUS9hFwExRK1"
      },
      "execution_count": null,
      "outputs": []
    },
    {
      "cell_type": "markdown",
      "source": [
        "Linspace\n",
        "\n",
        "\n",
        "> np.linspace(start, stop, num, endpoint, **retstep**, dtype)\n",
        "\n"
      ],
      "metadata": {
        "id": "b4iYGvZpxhdx"
      }
    },
    {
      "cell_type": "code",
      "source": [
        "np.linspace(0, 5, 3)  # np.linespace return evenly spaced numbers over a specified interval"
      ],
      "metadata": {
        "colab": {
          "base_uri": "https://localhost:8080/"
        },
        "id": "OSqORKJSx6rP",
        "outputId": "e77e62cc-4990-46e8-e17b-e4de89c22444"
      },
      "execution_count": null,
      "outputs": [
        {
          "output_type": "execute_result",
          "data": {
            "text/plain": [
              "array([0. , 2.5, 5. ])"
            ]
          },
          "metadata": {},
          "execution_count": 112
        }
      ]
    }
  ]
}