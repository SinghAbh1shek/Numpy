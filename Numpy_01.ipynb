{
  "nbformat": 4,
  "nbformat_minor": 0,
  "metadata": {
    "colab": {
      "provenance": [],
      "authorship_tag": "ABX9TyMCsWefwpZ6OItc0a25oxAw",
      "include_colab_link": true
    },
    "kernelspec": {
      "name": "python3",
      "display_name": "Python 3"
    },
    "language_info": {
      "name": "python"
    }
  },
  "cells": [
    {
      "cell_type": "markdown",
      "metadata": {
        "id": "view-in-github",
        "colab_type": "text"
      },
      "source": [
        "<a href=\"https://colab.research.google.com/github/SinghAbh1shek/Numpy/blob/main/Numpy_01.ipynb\" target=\"_parent\"><img src=\"https://colab.research.google.com/assets/colab-badge.svg\" alt=\"Open In Colab\"/></a>"
      ]
    },
    {
      "cell_type": "markdown",
      "source": [
        "**NumPy-> Numerical Python: **\n",
        "It's usually used for scientific computing in Python"
      ],
      "metadata": {
        "id": "-wfX1xrJfDoc"
      }
    },
    {
      "cell_type": "code",
      "source": [
        "import numpy as np"
      ],
      "metadata": {
        "id": "he1tezD_i7pj"
      },
      "execution_count": null,
      "outputs": []
    },
    {
      "cell_type": "markdown",
      "source": [
        "creation of numpy arrays from list"
      ],
      "metadata": {
        "id": "ok1CW6p_iXuB"
      }
    },
    {
      "cell_type": "markdown",
      "source": [
        "**1D Array**"
      ],
      "metadata": {
        "id": "IxeVHGJPkB0c"
      }
    },
    {
      "cell_type": "code",
      "execution_count": null,
      "metadata": {
        "colab": {
          "base_uri": "https://localhost:8080/"
        },
        "id": "yXIWXT_5eYpi",
        "outputId": "651b4081-9d70-4707-cc49-4516bcf54eb4"
      },
      "outputs": [
        {
          "output_type": "stream",
          "name": "stdout",
          "text": [
            "[1 2 3 4 5]\n"
          ]
        }
      ],
      "source": [
        "array_from_list = np.array([1, 2, 3, 4, 5])\n",
        "print(array_from_list)"
      ]
    },
    {
      "cell_type": "code",
      "source": [
        "type(array_from_list)"
      ],
      "metadata": {
        "colab": {
          "base_uri": "https://localhost:8080/"
        },
        "id": "guBvzZ8hjPZ7",
        "outputId": "bd7ad030-be23-43f8-d836-7617507051da"
      },
      "execution_count": null,
      "outputs": [
        {
          "output_type": "execute_result",
          "data": {
            "text/plain": [
              "numpy.ndarray"
            ]
          },
          "metadata": {},
          "execution_count": 19
        }
      ]
    },
    {
      "cell_type": "code",
      "source": [
        "array_from_list.shape\n",
        "array_from_list.dtype"
      ],
      "metadata": {
        "colab": {
          "base_uri": "https://localhost:8080/"
        },
        "id": "IEbt_UzKom1U",
        "outputId": "dd0eaad0-51cf-4381-ee87-2ad42a558edf"
      },
      "execution_count": null,
      "outputs": [
        {
          "output_type": "execute_result",
          "data": {
            "text/plain": [
              "dtype('int64')"
            ]
          },
          "metadata": {},
          "execution_count": 35
        }
      ]
    },
    {
      "cell_type": "markdown",
      "source": [
        "\n",
        "\n",
        ">Itemsize returns the size in bytes of each elements in the arrray\n",
        "\n"
      ],
      "metadata": {
        "id": "yka9DxT_vPt-"
      }
    },
    {
      "cell_type": "code",
      "source": [
        "print(\"The size of arr_int\", array_from_list.itemsize, \"bytes\")"
      ],
      "metadata": {
        "colab": {
          "base_uri": "https://localhost:8080/"
        },
        "id": "FMXfBSfFvNNN",
        "outputId": "be76d860-eb9b-4c8a-bd7d-74e825d5aeb4"
      },
      "execution_count": null,
      "outputs": [
        {
          "output_type": "stream",
          "name": "stdout",
          "text": [
            "The size of arr_int 8 bytes\n"
          ]
        }
      ]
    },
    {
      "cell_type": "markdown",
      "source": [
        "\n",
        "\n",
        "> Data provides a direct buffer to the memory location where the array's data is actually stored\n",
        "\n"
      ],
      "metadata": {
        "id": "HenHBdmfwf2X"
      }
    },
    {
      "cell_type": "code",
      "source": [
        "print(\"Data buffer\", array_from_list.data)"
      ],
      "metadata": {
        "colab": {
          "base_uri": "https://localhost:8080/"
        },
        "id": "Tkyl-hfRw-SN",
        "outputId": "7e6b45a6-b3b0-40d8-846a-3d7d95a7973f"
      },
      "execution_count": null,
      "outputs": [
        {
          "output_type": "stream",
          "name": "stdout",
          "text": [
            "Data buffer <memory at 0x7dc895075f00>\n"
          ]
        }
      ]
    },
    {
      "cell_type": "code",
      "source": [
        "array_from_tuple = np.array((1, 2, 3, 4, 5))\n",
        "print(array_from_tuple)"
      ],
      "metadata": {
        "colab": {
          "base_uri": "https://localhost:8080/"
        },
        "id": "Mn8ZJ4s4jURY",
        "outputId": "9739678a-7b53-4b94-a19c-05caddd18d0d"
      },
      "execution_count": null,
      "outputs": [
        {
          "output_type": "stream",
          "name": "stdout",
          "text": [
            "[1 2 3 4 5]\n"
          ]
        }
      ]
    },
    {
      "cell_type": "code",
      "source": [
        "type(array_from_list)"
      ],
      "metadata": {
        "colab": {
          "base_uri": "https://localhost:8080/"
        },
        "outputId": "4a48e43b-7190-4faa-aa01-3f2c63127f5e",
        "id": "k-MjawiOjhrz"
      },
      "execution_count": null,
      "outputs": [
        {
          "output_type": "execute_result",
          "data": {
            "text/plain": [
              "numpy.ndarray"
            ]
          },
          "metadata": {},
          "execution_count": 9
        }
      ]
    },
    {
      "cell_type": "markdown",
      "source": [
        "**2D Array**"
      ],
      "metadata": {
        "id": "sW8bAAMZkMXU"
      }
    },
    {
      "cell_type": "code",
      "source": [
        "array_2d = np.array([[1, 2, 3],\n",
        "                     [4, 5, 6],\n",
        "                     [7, 8, 9]])\n",
        "print(array_2d)"
      ],
      "metadata": {
        "colab": {
          "base_uri": "https://localhost:8080/"
        },
        "id": "_NjD9VYikK69",
        "outputId": "ed2d210a-3685-4970-e303-5df401b15a6b"
      },
      "execution_count": null,
      "outputs": [
        {
          "output_type": "stream",
          "name": "stdout",
          "text": [
            "[[1 2 3]\n",
            " [4 5 6]\n",
            " [7 8 9]]\n"
          ]
        }
      ]
    },
    {
      "cell_type": "code",
      "source": [
        "type(array_2d)\n",
        "array_2d.ndim"
      ],
      "metadata": {
        "colab": {
          "base_uri": "https://localhost:8080/"
        },
        "id": "-6bm2dVbj08u",
        "outputId": "fcceec50-5978-4ede-e65c-1cd2741bc942"
      },
      "execution_count": null,
      "outputs": [
        {
          "output_type": "execute_result",
          "data": {
            "text/plain": [
              "2"
            ]
          },
          "metadata": {},
          "execution_count": 18
        }
      ]
    },
    {
      "cell_type": "code",
      "source": [
        "array_2d.shape"
      ],
      "metadata": {
        "colab": {
          "base_uri": "https://localhost:8080/"
        },
        "id": "V7S9BYIYor1s",
        "outputId": "0510023e-76dc-4245-b190-2cd67ea6e37a"
      },
      "execution_count": null,
      "outputs": [
        {
          "output_type": "execute_result",
          "data": {
            "text/plain": [
              "(3, 3)"
            ]
          },
          "metadata": {},
          "execution_count": 21
        }
      ]
    },
    {
      "cell_type": "markdown",
      "source": [
        "**3D Array**"
      ],
      "metadata": {
        "id": "1S7JPrJxlHBK"
      }
    },
    {
      "cell_type": "code",
      "source": [
        "array_3d = np.array([[[1, 2, 3],\n",
        "                      [4, 5, 6],],\n",
        "                      [[8, 9, 10],\n",
        "                       [11, 12, 13]]])\n",
        "print(array_3d)\n",
        "type(array_3d)\n",
        "array_3d.ndim\n",
        "array_3d.dtype"
      ],
      "metadata": {
        "colab": {
          "base_uri": "https://localhost:8080/"
        },
        "id": "09suHzNGl-IM",
        "outputId": "b9f4a80d-72cd-4a57-f527-b788246d0a1e"
      },
      "execution_count": null,
      "outputs": [
        {
          "output_type": "stream",
          "name": "stdout",
          "text": [
            "[[[ 1  2  3]\n",
            "  [ 4  5  6]]\n",
            "\n",
            " [[ 8  9 10]\n",
            "  [11 12 13]]]\n"
          ]
        },
        {
          "output_type": "execute_result",
          "data": {
            "text/plain": [
              "dtype('int64')"
            ]
          },
          "metadata": {},
          "execution_count": 34
        }
      ]
    },
    {
      "cell_type": "code",
      "source": [
        "array_3d.shape"
      ],
      "metadata": {
        "colab": {
          "base_uri": "https://localhost:8080/"
        },
        "id": "xircHS2voxjM",
        "outputId": "637764e7-6f04-494b-9b8b-b4ede3ac58af"
      },
      "execution_count": null,
      "outputs": [
        {
          "output_type": "execute_result",
          "data": {
            "text/plain": [
              "(2, 2, 3)"
            ]
          },
          "metadata": {},
          "execution_count": 28
        }
      ]
    },
    {
      "cell_type": "code",
      "source": [
        "array_3d_1 = np.array([[[1, 2, 3],\n",
        "                      [4, 5, 6],\n",
        "                      [4, 5, 6]],\n",
        "                      [[8, 9, 10],\n",
        "                       [11, 12, 13],\n",
        "                       [4, 5, 6]]])\n",
        "\n",
        "array_3d_1.shape\n"
      ],
      "metadata": {
        "colab": {
          "base_uri": "https://localhost:8080/"
        },
        "id": "Jhr46iNarbU9",
        "outputId": "46b1cf5a-5be4-4749-9891-a90a3b51827c"
      },
      "execution_count": null,
      "outputs": [
        {
          "output_type": "execute_result",
          "data": {
            "text/plain": [
              "(2, 3, 3)"
            ]
          },
          "metadata": {},
          "execution_count": 30
        }
      ]
    },
    {
      "cell_type": "code",
      "source": [
        "array_3d_3 = np.array([[[1, 2, 3],\n",
        "                      [4, 5, 6]],\n",
        "\n",
        "                      [[8, 9, 10],\n",
        "                       [11, 12, 13]],\n",
        "\n",
        "                       [[8, 9, 10],\n",
        "                       [11, 12, 13]]\n",
        "                       ])\n",
        "\n",
        "array_3d_3.shape\n"
      ],
      "metadata": {
        "colab": {
          "base_uri": "https://localhost:8080/"
        },
        "id": "kBLLwbe7rvit",
        "outputId": "d8629a70-c8db-4f99-c096-a8e22e2a60bf"
      },
      "execution_count": null,
      "outputs": [
        {
          "output_type": "execute_result",
          "data": {
            "text/plain": [
              "(3, 2, 3)"
            ]
          },
          "metadata": {},
          "execution_count": 33
        }
      ]
    },
    {
      "cell_type": "code",
      "source": [],
      "metadata": {
        "id": "q5reJXHCr9nP"
      },
      "execution_count": null,
      "outputs": []
    }
  ]
}