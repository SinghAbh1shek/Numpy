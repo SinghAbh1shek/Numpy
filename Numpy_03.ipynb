{
  "nbformat": 4,
  "nbformat_minor": 0,
  "metadata": {
    "colab": {
      "provenance": [],
      "authorship_tag": "ABX9TyMzn6KpXKeNUFSdkduhvo5I",
      "include_colab_link": true
    },
    "kernelspec": {
      "name": "python3",
      "display_name": "Python 3"
    },
    "language_info": {
      "name": "python"
    }
  },
  "cells": [
    {
      "cell_type": "markdown",
      "metadata": {
        "id": "view-in-github",
        "colab_type": "text"
      },
      "source": [
        "<a href=\"https://colab.research.google.com/github/SinghAbh1shek/Numpy/blob/main/Numpy_03.ipynb\" target=\"_parent\"><img src=\"https://colab.research.google.com/assets/colab-badge.svg\" alt=\"Open In Colab\"/></a>"
      ]
    },
    {
      "cell_type": "code",
      "execution_count": null,
      "metadata": {
        "id": "Fa010D8wO9C3"
      },
      "outputs": [],
      "source": [
        "import numpy as np"
      ]
    },
    {
      "cell_type": "markdown",
      "source": [
        "Arithmetic Operation"
      ],
      "metadata": {
        "id": "Y_XGTjrPSOav"
      }
    },
    {
      "cell_type": "code",
      "source": [
        "a = np.array([[1, 2], [3, 4]])\n",
        "b = np.array([[10, 20], [30, 40]])"
      ],
      "metadata": {
        "id": "Bw04S3dhPAyi"
      },
      "execution_count": null,
      "outputs": []
    },
    {
      "cell_type": "code",
      "source": [
        "print(a)\n",
        "print(b)\n",
        "\n",
        "print('\\naddition:\\n', a+b)\n",
        "\n",
        "print('\\nsubtraction:\\n', a-b)\n",
        "\n",
        "print('\\ndivision:\\n', a/b)\n",
        "\n",
        "print('\\nmultiplication:\\n', a*b)\n",
        "\n",
        "print('\\nexponential:\\n', a**b)"
      ],
      "metadata": {
        "colab": {
          "base_uri": "https://localhost:8080/"
        },
        "id": "WgP-7oqtPYQ0",
        "outputId": "180b7523-6cf1-4f65-e811-8fe9c5611afe"
      },
      "execution_count": null,
      "outputs": [
        {
          "output_type": "stream",
          "name": "stdout",
          "text": [
            "[[1 2]\n",
            " [3 4]]\n",
            "[[10 20]\n",
            " [30 40]]\n",
            "\n",
            "addition:\n",
            " [[11 22]\n",
            " [33 44]]\n",
            "\n",
            "subtraction:\n",
            " [[ -9 -18]\n",
            " [-27 -36]]\n",
            "\n",
            "division:\n",
            " [[0.1 0.1]\n",
            " [0.1 0.1]]\n",
            "\n",
            "multiplication:\n",
            " [[ 10  40]\n",
            " [ 90 160]]\n",
            "\n",
            "exponential:\n",
            " [[              1         1048576]\n",
            " [205891132094649               0]]\n"
          ]
        }
      ]
    }
  ]
}